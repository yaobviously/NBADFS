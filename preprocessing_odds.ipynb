{
  "nbformat": 4,
  "nbformat_minor": 0,
  "metadata": {
    "colab": {
      "name": "preprocessing_odds.ipynb",
      "provenance": [],
      "collapsed_sections": [],
      "mount_file_id": "1dZlGqqRJKDfqSR_dyDuF2S1jo58jVrkf",
      "authorship_tag": "ABX9TyO11YLAUOxfFyxVMxSB8PHO",
      "include_colab_link": true
    },
    "kernelspec": {
      "name": "python3",
      "display_name": "Python 3"
    },
    "language_info": {
      "name": "python"
    }
  },
  "cells": [
    {
      "cell_type": "markdown",
      "metadata": {
        "id": "view-in-github",
        "colab_type": "text"
      },
      "source": [
        "<a href=\"https://colab.research.google.com/github/yaobviously/NBADFS/blob/main/preprocessing_odds.ipynb\" target=\"_parent\"><img src=\"https://colab.research.google.com/assets/colab-badge.svg\" alt=\"Open In Colab\"/></a>"
      ]
    },
    {
      "cell_type": "code",
      "metadata": {
        "id": "Opsz8kEpipeT"
      },
      "source": [
        "import pandas as pd\n",
        "import numpy as np"
      ],
      "execution_count": 1,
      "outputs": []
    },
    {
      "cell_type": "code",
      "metadata": {
        "id": "nY1DaFKgksyy"
      },
      "source": [
        "nba_odds_19 = '/content/drive/MyDrive/NBA Player Box Scores/nba_odds_2018-19.csv'\n",
        "nba_odds_20 = '/content/drive/MyDrive/NBA Player Box Scores/nba_odds_2019-20.csv'\n",
        "nba_odds_21 = '/content/drive/MyDrive/NBA Player Box Scores/nba_odds_2020_21.csv'"
      ],
      "execution_count": 48,
      "outputs": []
    },
    {
      "cell_type": "code",
      "metadata": {
        "id": "oZo6nUa9qRuj"
      },
      "source": [
        "def process_csv(csv=nba_odds_21, year=2020):\n",
        "\n",
        "    odds_cols = ['Date', 'VH', 'Team', 'Final', 'Close', 'ML']\n",
        "\n",
        "    odds_team_map = {'GoldenState' : 'GSW', 'Brooklyn' : 'BKN', 'LAClippers' : 'LAC',\n",
        "                    'LALakers':'LAL', 'Charlotte':'CHA', 'Cleveland':'CLE', \n",
        "                    'NewYork':'NYK', 'Indiana':'IND', 'Miami':'MIA', 'Orlando':'ORL',\n",
        "                    'Washington':'WAS', 'Philadelphia':'PHI', 'Milwaukee':'MIL', \n",
        "                    'Boston':'BOS', 'NewOrleans':'NOP', 'Toronto':'TOR',\n",
        "                    'Atlanta':'ATL', 'Chicago':'CHI', 'SanAntonio':'SAS',\n",
        "                    'Memphis':'MEM', 'Detroit':'DET', 'Minnesota':'MIN',\n",
        "                    'Sacramento':'SAC', 'Denver':'DEN', 'Utah':'UTA', \n",
        "                    'Portland':'POR', 'Dallas':'DAL', 'Phoenix':'PHO',\n",
        "                    'OklahomaCity':'OKC', 'Houston':'HOU'}\n",
        "\n",
        "    df = pd.read_csv(csv, usecols=odds_cols, na_values=0)\n",
        "    df.columns = df.columns.str.lower()\n",
        "    df = df[df['vh'] != 'N'].copy()\n",
        "\n",
        "    game_num = []\n",
        "\n",
        "    for i in range(len(df)//2):\n",
        "      game_num.append(i)\n",
        "      game_num.append(i)\n",
        "\n",
        "    df['game_num'] = game_num\n",
        "    df['home'] = np.where(df['vh'] == 'H', 1, 0)\n",
        "    df.drop(columns='vh', inplace=True)\n",
        "\n",
        "    df['close'] = df['close'].replace('pk', 0).replace('PK', 0).astype(float)\n",
        "\n",
        "    total_spread = pd.pivot_table(df, values='close', index='game_num', columns='home')\n",
        "    total_spread.rename(columns={0:'total_line', 1:'spread_line_home_fave'}, inplace=True)\n",
        "\n",
        "    # swapping the column values where the spread and total are in the wrong col\n",
        "    condition = (total_spread['spread_line_home_fave'] > 100)\n",
        "\n",
        "    total_spread.loc[condition, ['total_line', 'spread_line_home_fave']] = (\n",
        "        total_spread.loc[condition, ['spread_line_home_fave', 'total_line']].values\n",
        "    )\n",
        "\n",
        "    # getting actual spread using a pivot table and joining it to the df\n",
        "    spread_df = pd.pivot_table(df, values='final', columns='home', index='game_num')\n",
        "    spread_df['actual_spread'] = spread_df[0].sub(spread_df[1])\n",
        "    \n",
        "    df = df.join(spread_df[['actual_spread']], how='left', on='game_num')\n",
        "\n",
        "    # joining the spread df\n",
        "    df = df.join(total_spread, how='left', on='game_num')\n",
        "    df['spread'] = np.where(df['home'] == 1, df['spread_line_home_fave'] * -1, df['spread_line_home_fave'])\n",
        "    df.drop(columns=['spread_line_home_fave', 'close'], inplace=True)\n",
        "    df['actual_total'] = df.groupby('game_num')['final'].transform(lambda x: x.sum())\n",
        "\n",
        "    # converting the numeric date indicator to the date format of the other dataframes\n",
        "    df['day'] = [str(x)[-2:] for x in df['date']]\n",
        "    df['day'] = [x[1] if x[0] == '0' else x for x in df['day']]\n",
        "    df['month'] = [int(str(x)[:-2]) for x in df['date']]\n",
        "    df['year'] = np.where(df['month'] >= 10, year, year+1)\n",
        "    df['game_date'] = [str(x) +'-' + str(y) + '-' + str(z) for x, y, z in zip(df['year'], df['month'], df['day'])]\n",
        "    df['game_date'] = pd.to_datetime(df['game_date'])\n",
        "\n",
        "    # mapping team names to standard team abbreviations using the dict defined above\n",
        "    df['team'] = df['team'].map(odds_team_map).fillna(df['team'])\n",
        "\n",
        "    df.drop(columns=['date', 'game_num', 'day', 'month', 'year'], inplace=True)\n",
        "\n",
        "    return df"
      ],
      "execution_count": 118,
      "outputs": []
    },
    {
      "cell_type": "code",
      "metadata": {
        "id": "ZXJcUcBDp79C"
      },
      "source": [
        "df1 = process_csv(nba_odds_21, 2020)\n",
        "df2 = process_csv(nba_odds_20, 2019)\n",
        "df3 = process_csv(nba_odds_19, 2018)\n",
        "\n",
        "odds_df = pd.concat([df3, df2, df1]).sort_values(by='game_date').reset_index(drop=True)"
      ],
      "execution_count": 120,
      "outputs": []
    },
    {
      "cell_type": "code",
      "metadata": {
        "id": "6T8sO5_J3YL9"
      },
      "source": [
        "odds_df.to_csv('/content/drive/MyDrive/NBA Player Box Scores/processed_nba_odds_2018_to_2021_no_neutrals.csv', index=False)"
      ],
      "execution_count": 123,
      "outputs": []
    }
  ]
}