{
  "nbformat": 4,
  "nbformat_minor": 0,
  "metadata": {
    "colab": {
      "name": "nbadfs.ipynb",
      "provenance": [],
      "collapsed_sections": [],
      "mount_file_id": "15cL6pFmj8D4AiCkOmUvH7GIIxbwZaxUg",
      "authorship_tag": "ABX9TyPrqpHnq8cxNMno2xuJHeHb",
      "include_colab_link": true
    },
    "kernelspec": {
      "display_name": "Python 3",
      "name": "python3"
    },
    "language_info": {
      "name": "python"
    }
  },
  "cells": [
    {
      "cell_type": "markdown",
      "metadata": {
        "id": "view-in-github",
        "colab_type": "text"
      },
      "source": [
        "<a href=\"https://colab.research.google.com/github/yaobviously/NBADFS/blob/main/nbadfs.ipynb\" target=\"_parent\"><img src=\"https://colab.research.google.com/assets/colab-badge.svg\" alt=\"Open In Colab\"/></a>"
      ]
    },
    {
      "cell_type": "code",
      "metadata": {
        "colab": {
          "base_uri": "https://localhost:8080/"
        },
        "id": "Grk_-QkPqY5B",
        "outputId": "cf3aee9c-1757-4b87-830f-bbdb9e9a7a9e"
      },
      "source": [
        "!pip install category_encoders --quiet\n",
        "!pip install shap --quiet\n",
        "!pip install requests --quiet\n",
        "!pip install beautifulsoup4 --quiet\n",
        "!pip install fuzzywuzzy --quiet\n",
        "!pip install scikit-garden --quiet\n",
        "!pip install catboost --quiet"
      ],
      "execution_count": null,
      "outputs": [
        {
          "output_type": "stream",
          "text": [
            "\u001b[K     |████████████████████████████████| 81kB 4.2MB/s \n",
            "\u001b[K     |████████████████████████████████| 358kB 6.7MB/s \n",
            "\u001b[?25h  Building wheel for shap (setup.py) ... \u001b[?25l\u001b[?25hdone\n",
            "\u001b[K     |████████████████████████████████| 317kB 6.7MB/s \n",
            "\u001b[?25h  Building wheel for scikit-garden (setup.py) ... \u001b[?25l\u001b[?25hdone\n",
            "\u001b[K     |████████████████████████████████| 67.3MB 61kB/s \n",
            "\u001b[?25h"
          ],
          "name": "stdout"
        }
      ]
    },
    {
      "cell_type": "code",
      "metadata": {
        "id": "yr3AnUVCFPi-"
      },
      "source": [
        "thisyear = '/content/nba_box_scores_2021.csv'\n",
        "slate = '/content/may16main.csv'"
      ],
      "execution_count": 1,
      "outputs": []
    },
    {
      "cell_type": "code",
      "metadata": {
        "id": "I21HBmB7oyxm"
      },
      "source": [
        "import pandas as pd\n",
        "import numpy as np\n",
        "import matplotlib.pyplot as plt\n",
        "import shap\n",
        "import joblib\n",
        "import requests\n",
        "from fuzzywuzzy import process\n",
        "from bs4 import BeautifulSoup\n",
        "from category_encoders import OrdinalEncoder\n",
        "from sklearn.impute import SimpleImputer\n",
        "from sklearn.pipeline import make_pipeline\n",
        "from xgboost import XGBRegressor\n",
        "from catboost import CatBoostRegressor\n",
        "from skgarden import RandomForestQuantileRegressor\n",
        "from sklearn.model_selection import RandomizedSearchCV\n",
        "from sklearn.inspection import permutation_importance\n",
        "from sklearn.metrics import mean_squared_error\n",
        "from xgboost import plot_importance\n",
        "\n",
        "\n",
        "url = 'https://raw.githubusercontent.com/yaobviously/DFSProjections/main/cleanedbox.csv'\n",
        "lastseason = 'https://raw.githubusercontent.com/yaobviously/DFSProjections/main/lastseasonclean.csv'\n",
        "# slate = pd.read_csv('/content/draftkings_NBA_2021-04-26_players.csv')"
      ],
      "execution_count": null,
      "outputs": []
    },
    {
      "cell_type": "code",
      "metadata": {
        "id": "XBKTj3yVe0X3"
      },
      "source": [
        "def wrangle(url):\n",
        "    \n",
        "    \n",
        "    df = pd.read_csv(url,\n",
        "                     parse_dates = ['DATE'],\n",
        "                     index_col = 'DATE')\n",
        "    \n",
        "    df = df.rename(columns={'BIGDATABALL\\nDATASET' : 'game_type',\n",
        "                            'GAME-ID' : 'gameid',                            \n",
        "                            'PLAYER-ID' : 'playerid',\n",
        "                            'PLAYER \\nFULL NAME' : 'player',\n",
        "                            'POSITION' : 'position',\n",
        "                            'OWN \\nTEAM' : 'team', \n",
        "                            'OPPONENT \\nTEAM' : 'opponent',\n",
        "                            'VENUE\\n(R/H)' : 'venue',\n",
        "                            'STARTER\\n(Y/N)' : 'starter',\n",
        "                            'USAGE \\nRATE (%)' : 'usage',\n",
        "                            'DAYS\\nREST' : 'rest',\n",
        "                            'TOT' : 'totreb'})\n",
        "    \n",
        "    df.columns = df.columns.str.lower()\n",
        "    \n",
        "    df['starter'] = [1 if start == 'Y' else 0 for start in df['starter']]\n",
        "    df['venue'] = df.venue.map({'H' : 1, 'R' : 0})\n",
        "    df['month'] = pd.DatetimeIndex(df.index).month\n",
        "\n",
        "    # computing bonus points for double-doubles and triple-doubles\n",
        "    \n",
        "    df['dbl_digits'] = (df[['pts', 'a', 'totreb', 'st', 'bl']] >= 10).astype(int).sum(axis=1)    \n",
        "    df['bonus'] = 0\n",
        "    df['bonus'].loc[df['dbl_digits'] == 2] = 1.5    \n",
        "    df['bonus'].loc[df['dbl_digits'] == 3] = 4.5\n",
        "    \n",
        "    # computing player fantasy points and game rate\n",
        "    df['playerfp'] = (df['pts'] + \\\n",
        "                      df['a'] * 1.5 + \\\n",
        "                      df['totreb'] * 1.25 + \\\n",
        "                      df['st'] * 2 + \\\n",
        "                      df['bl'] * 2 + \\\n",
        "                      df['3p'] * 0.5 + \\\n",
        "                      df['to'] * -0.5 + \\\n",
        "                      df['bonus']\n",
        "                      )\n",
        "    df['gamefp36'] = ((df['playerfp'] / df['min']) * 36).round(1)\n",
        "    \n",
        "    # computing rolling team fantasy points\n",
        "    \n",
        "    df['teamfp'] = df.groupby(['gameid', 'team'])['playerfp'].transform(sum)\n",
        "    \n",
        "    tm21 = df.groupby(['gameid', 'team'], as_index = False).agg(teamfp = ('playerfp', 'sum'),\n",
        "                                                                teammin = ('min', 'sum')).drop_duplicates()\n",
        "\n",
        "    opp21 = df.groupby(['gameid', 'opponent'], as_index = False).agg(oppfp = ('playerfp', 'sum'),\n",
        "                                                                     oppmin = ('min', 'sum')).drop_duplicates()\n",
        "\n",
        "    tm21['totteamfp'] = tm21.groupby('team')['teamfp'].transform(lambda x: x.expanding().sum().shift())\n",
        "    tm21['totteammin'] = tm21.groupby('team')['teammin'].transform(lambda x: x.expanding().sum().shift())\n",
        "    tm21['fp48'] = (tm21['totteamfp'] / tm21['totteammin']) * 240\n",
        "    tmdf = tm21[['gameid', 'team', 'fp48']].copy()\n",
        "\n",
        "    df = df.reset_index().merge(tmdf, how = 'left', on = ['gameid', 'team']).set_index('DATE')\n",
        "\n",
        "    # computing rolling defense stats\n",
        "\n",
        "    opp21 = df.groupby(['gameid', 'opponent'], as_index = False).agg(opponent_fp = ('playerfp', 'sum'),\n",
        "                                                                 opponent_min = ('min', 'sum'))\n",
        "\n",
        "    opp21['totoppfp'] = opp21.groupby('opponent')['opponent_fp'].transform(lambda x: x.expanding().sum().shift())\n",
        "    opp21['totoppmin'] = opp21.groupby('opponent')['opponent_min'].transform(lambda x: x.expanding().sum().shift())\n",
        "    opp21['oppfp48'] = (opp21['totoppfp'] / opp21['totoppmin']) * 240\n",
        "    oppdf = opp21[['gameid', 'opponent', 'oppfp48']]\n",
        "\n",
        "    df = df.reset_index().merge(oppdf, how = 'left', on = ['gameid', 'opponent']).set_index('DATE')\n",
        "    \n",
        "    # computing running and rolling averages for players\n",
        "\n",
        "    df['gamesplayed'] = df.groupby('player')['gameid'].cumcount().shift()\n",
        "    df['avgfp'] = df.groupby('player')['playerfp'].transform(lambda x: x.expanding().mean().shift())\n",
        "    df['avgfga'] = df.groupby('player')['fga'].transform(lambda x: x.expanding().mean().shift())   \n",
        "    df['totmin'] = df.groupby('player')['min'].transform(lambda x: x.cumsum().shift())\n",
        "    df['totfp'] = df.groupby('player')['playerfp'].transform(lambda x: x.cumsum().shift())\n",
        "    df['seasonfppm'] = (df['totfp'] / df['totmin']).round(2)\n",
        "    df['ptsseason'] = df.groupby('player')['pts'].transform(lambda x: x.expanding().sum().shift())\n",
        "    df['ftaseas'] = df.groupby('player')['fta'].transform(lambda x: x.expanding().sum().shift())\n",
        "    df['fgaseas'] = df.groupby('player')['fga'].transform(lambda x: x.expanding().sum().shift())\n",
        "    df['3paseas'] = df.groupby('player')['3pa'].transform(lambda x: x.expanding().sum().shift())\n",
        "    df['3fraction'] = df['3paseas']/df['fgaseas']\n",
        "    df['starter_avg'] = df.groupby('player')['starter'].transform(lambda x: x.expanding().mean().shift())\n",
        "    df['starter_diff'] = df['starter'] - df['starter_avg']\n",
        "    \n",
        "    df['ts_season'] = (df['ptsseason'] / (2 * (df['fgaseas'] + (df['ftaseas'] * 0.44)))).round(3)\n",
        "    \n",
        "    df['mpg'] = df.groupby('player')['min'].transform(lambda x: x.expanding().mean().shift())\n",
        "    df['rollingmpg'] = df.groupby('player')['min'].transform(lambda x:\n",
        "                                                             x.rolling(3, min_periods = 1)\n",
        "                                                             .mean()\n",
        "                                                             .shift())\n",
        "    \n",
        "    df['avgusage'] = df.groupby('player')['usage'].transform(lambda x:\n",
        "                                                             x.expanding()\n",
        "                                                             .mean()\n",
        "                                                             .shift())\n",
        "    \n",
        "    df['rollingusage'] = df.groupby('player')['usage'].transform(lambda x:\n",
        "                                                                 x.rolling(5)\n",
        "                                                                 .mean()\n",
        "                                                                 .shift())  \n",
        "    \n",
        "    df['stdgamefp'] = df.groupby('player')['gamefp36'].transform(lambda x:\n",
        "                                                                 x.expanding()\n",
        "                                                                 .std()\n",
        "                                                                 .shift())  \n",
        "    \n",
        "    df['maxfp'] = df.groupby('player')['playerfp'].transform(lambda x: x.expanding().max().shift())\n",
        "    df['rollingmaxfp'] = df.groupby('player')['playerfp'].transform(lambda x: x.rolling(5).max().shift())\n",
        "    df['maxmin'] = df.groupby('player')['min'].transform(lambda x: x.rolling(8).max().shift())\n",
        "    df['minmin'] = df.groupby('player')['min'].transform(lambda x: x.rolling(8).min().shift())    \n",
        "    df['extramins'] = df['rollingmpg'] - df['mpg']\n",
        "    df['extrausage'] = df['rollingusage'] - df['avgusage']\n",
        "    df['league3p'] = df['3p'].expanding().sum().shift()\n",
        "    df['league3pa'] = df['3pa'].expanding().sum().shift()\n",
        "    df['league3perc'] = (df['league3p'] / df['league3pa']).round(3)\n",
        "    \n",
        "    df['starter_avg'] = df.groupby('player')['starter'].transform(lambda x: x.expanding().mean().shift())\n",
        "    df['starter_diff'] = df['starter'] - df['starter_avg']\n",
        "    df['did_boom'] = (df['playerfp'] >= (df['avgfp'] + 8)).astype(int)\n",
        "    df['above_avg'] = (df['playerfp'] > df['avgfp']).astype(int)\n",
        "\n",
        "    # calculating starter stats\n",
        "    df['gamestartersum'] = df.groupby(['gameid', 'team', 'starter'])['starter_avg'].transform(sum)\n",
        "    df['oppstartersum'] = df.groupby(['gameid', 'opponent', 'starter'])['starter_avg'].transform(sum)\n",
        "    df['starterfpgame'] = df.groupby(['gameid', 'team', 'starter'])['avgfp'].transform(sum)\n",
        "    df['starterfraction'] = df['starterfpgame'] / df['fp48']\n",
        "    # dropping colums i don't need \n",
        "    \n",
        "    col_drop = ['dbl_digits', 'playerid', 'ptsseason', 'ftaseas','fgaseas',\n",
        "                'league3p', 'league3pa', '3paseas']   \n",
        "\n",
        "    df.drop(col_drop, axis = 1, inplace = True)\n",
        "    \n",
        "    return df"
      ],
      "execution_count": null,
      "outputs": []
    },
    {
      "cell_type": "code",
      "metadata": {
        "id": "MRqmBCmGvbqP"
      },
      "source": [
        "df = wrangle(thisyear)"
      ],
      "execution_count": null,
      "outputs": []
    },
    {
      "cell_type": "code",
      "metadata": {
        "id": "-oqne1fcYWu_"
      },
      "source": [
        "df.to_csv('nba_wrangled_2021.csv')"
      ],
      "execution_count": null,
      "outputs": []
    },
    {
      "cell_type": "code",
      "metadata": {
        "id": "koxJQjfSs4b6"
      },
      "source": [
        "\n",
        "game_stats = ['min', 'fg', 'fga', '3p', '3pa', 'ft', 'fta', 'or', 'dr',\n",
        "              'totreb', 'a', 'pf', 'st', 'to', 'bl', 'pts', 'usage',\n",
        "              'bonus', 'teamfp', 'gameid', 'game_type',\n",
        "              'gamefp36', 'above_avg', 'playerfp']\n",
        "\n",
        "\n",
        "model_cols = ['avgfp', 'starter', 'extramins', 'rollingmaxfp', 'starter_diff',\n",
        "            'seasonfppm', 'starterfpgame', 'oppfp48', 'playerfp', 'stdgamefp'\n",
        "            \n",
        "                                       \n",
        "            \n",
        "            ]\n",
        "\n",
        "df_model = df[model_cols]"
      ],
      "execution_count": null,
      "outputs": []
    },
    {
      "cell_type": "code",
      "metadata": {
        "id": "SvkD_oSDqVBb"
      },
      "source": [
        "# In this cell we specify the target and divide the data set into the train and\n",
        "# test sets using a date threshold\n",
        "\n",
        "target = 'playerfp'\n",
        "\n",
        "date_threshold = '2021-03-01'\n",
        "mask = df_model.index < date_threshold\n",
        "\n",
        "X = df_model.drop(target, axis = 1)\n",
        "y = df_model[target]\n",
        "\n",
        "X_train, y_train = X[mask], y[mask]\n",
        "X_test, y_test = X[~mask], y[~mask]"
      ],
      "execution_count": null,
      "outputs": []
    },
    {
      "cell_type": "code",
      "metadata": {
        "colab": {
          "base_uri": "https://localhost:8080/"
        },
        "id": "354mMzj8rg8e",
        "outputId": "9720ccd8-0af1-4663-bad0-19a255acabdd"
      },
      "source": [
        "baseline = mean_squared_error(y_test, X_test['avgfp'].fillna(method = 'bfill'))\n",
        "\n",
        "print('The mean squared error using only the average fp to date is:', baseline)"
      ],
      "execution_count": null,
      "outputs": [
        {
          "output_type": "stream",
          "text": [
            "The mean squared error using only the average fp to date is: 103.26255204486276\n"
          ],
          "name": "stdout"
        }
      ]
    },
    {
      "cell_type": "code",
      "metadata": {
        "colab": {
          "base_uri": "https://localhost:8080/"
        },
        "id": "ODBspAeJzpBi",
        "outputId": "cd5eeec4-9c16-447c-ba1d-b8cffe131251"
      },
      "source": [
        "model_xg = make_pipeline(\n",
        "    OrdinalEncoder(),\n",
        "    SimpleImputer(strategy = 'mean'),\n",
        "    XGBRegressor(eval_metric = 'rmse',\n",
        "                 n_estimators = 75,\n",
        "                 max_depth = 3\n",
        "                 )\n",
        ")\n",
        "\n",
        "model_xg.fit(X_train, y_train);"
      ],
      "execution_count": null,
      "outputs": [
        {
          "output_type": "stream",
          "text": [
            "[13:50:03] WARNING: /workspace/src/objective/regression_obj.cu:152: reg:linear is now deprecated in favor of reg:squarederror.\n"
          ],
          "name": "stdout"
        }
      ]
    },
    {
      "cell_type": "code",
      "metadata": {
        "id": "LdoyHyrRyWUY"
      },
      "source": [
        "model_q = make_pipeline(\n",
        "    OrdinalEncoder(),\n",
        "    SimpleImputer(),\n",
        "    RandomForestQuantileRegressor(n_estimators = 175,\n",
        "                                  min_samples_leaf = 10)\n",
        ")\n",
        "\n",
        "model_q.fit(X_train, y_train);"
      ],
      "execution_count": null,
      "outputs": []
    },
    {
      "cell_type": "code",
      "metadata": {
        "id": "IVgAl1Y5s32r"
      },
      "source": [
        "model_cat = make_pipeline(\n",
        "    OrdinalEncoder(),\n",
        "    SimpleImputer(),\n",
        "    CatBoostRegressor(loss_function = 'Quantile:alpha=0.8')\n",
        ")\n",
        "\n",
        "model_cat.fit(X_train, y_train);"
      ],
      "execution_count": null,
      "outputs": []
    },
    {
      "cell_type": "code",
      "metadata": {
        "id": "woImjfbY1JZh"
      },
      "source": [
        "param_dictq = {\n",
        "    'randomforestquantileregressor__n_estimators' : [n for n in np.arange(25,200, 25)],\n",
        "    'randomforestquantileregressor__min_samples_leaf' : [n for n in np.arange(3,12, 1)]\n",
        "}\n",
        "\n",
        "search = RandomizedSearchCV(model_q,\n",
        "                            param_distributions = param_dictq,\n",
        "                            n_iter = 10,\n",
        "                            scoring = 'neg_mean_absolute_error'\n",
        ")\n",
        "                            \n",
        "search.fit(X_train, y_train)"
      ],
      "execution_count": null,
      "outputs": []
    },
    {
      "cell_type": "code",
      "metadata": {
        "id": "VGTUPpw4V8AV"
      },
      "source": [
        "features = model_xg.named_steps['ordinalencoder'].get_feature_names()"
      ],
      "execution_count": null,
      "outputs": []
    },
    {
      "cell_type": "code",
      "metadata": {
        "colab": {
          "base_uri": "https://localhost:8080/"
        },
        "id": "MfcLqNmL9oCo",
        "outputId": "2712861e-9e18-4fb3-e1b2-6f30d9dcdf44"
      },
      "source": [
        "encoder = OrdinalEncoder()\n",
        "imputer = SimpleImputer()\n",
        "booster = XGBRegressor(eval_metric = 'rmse',\n",
        "                        n_estimators = 100,\n",
        "                        learning_rate = 0.1)\n",
        "\n",
        "X_test_encoded = encoder.fit_transform(X_test)\n",
        "X_test_imputed = imputer.fit_transform(X_test_encoded)\n",
        "X_imp_df = pd.DataFrame(X_test_imputed, columns = X_test.columns)\n",
        "\n",
        "booster.fit(X_test_imputed, y_test)\n",
        "\n",
        "explainer = shap.TreeExplainer(booster)\n",
        "shap_values = explainer.shap_values(X_test_imputed)"
      ],
      "execution_count": null,
      "outputs": [
        {
          "output_type": "stream",
          "text": [
            "[19:52:02] WARNING: /workspace/src/objective/regression_obj.cu:152: reg:linear is now deprecated in favor of reg:squarederror.\n"
          ],
          "name": "stdout"
        }
      ]
    },
    {
      "cell_type": "code",
      "metadata": {
        "colab": {
          "base_uri": "https://localhost:8080/",
          "height": 368
        },
        "id": "Npyk6nRqq4Id",
        "outputId": "352774dd-7529-4ca0-d547-78f46e6b5ae9"
      },
      "source": [
        "shap.summary_plot(shap_values,\n",
        "                  X_imp_df,\n",
        "                  )\n"
      ],
      "execution_count": null,
      "outputs": [
        {
          "output_type": "display_data",
          "data": {
            "image/png": "[encoded data removed]",
            "text/plain": [
              "<Figure size 576x396 with 2 Axes>"
            ]
          },
          "metadata": {
            "tags": []
          }
        }
      ]
    },
    {
      "cell_type": "code",
      "metadata": {
        "colab": {
          "base_uri": "https://localhost:8080/",
          "height": 337
        },
        "id": "YKNwR5Pm_Z9i",
        "outputId": "253ed39e-4a24-4c38-d1a5-34c5cd0b2083"
      },
      "source": [
        "shap.dependence_plot('days_since',\n",
        "                     shap_values,\n",
        "                     X_imp_df)"
      ],
      "execution_count": null,
      "outputs": [
        {
          "output_type": "display_data",
          "data": {
            "image/png": "[encoded data removed]",
            "text/plain": [
              "<Figure size 540x360 with 2 Axes>"
            ]
          },
          "metadata": {
            "tags": []
          }
        }
      ]
    },
    {
      "cell_type": "code",
      "metadata": {
        "colab": {
          "base_uri": "https://localhost:8080/"
        },
        "id": "eSxM2EcW80h5",
        "outputId": "e6ef17a9-d1bd-4aab-a761-71f920a00737"
      },
      "source": [
        "mean_squared_error(y_test, model_xg.predict(X_test))"
      ],
      "execution_count": null,
      "outputs": [
        {
          "output_type": "execute_result",
          "data": {
            "text/plain": [
              "91.5201391530503"
            ]
          },
          "metadata": {
            "tags": []
          },
          "execution_count": 21
        }
      ]
    },
    {
      "cell_type": "code",
      "metadata": {
        "id": "n7ixe3DJBAXk"
      },
      "source": [
        "# transforming the fantasy cruncher csv file into a format that allows me to \n",
        "# use my FP Projection model to project FP\n",
        "\n",
        "slate = pd.read_csv(slate)\n",
        "slate.columns = slate.columns.str.lower()\n",
        "\n",
        "slate['opp'] = slate['opp'].str.lstrip('@').str.lstrip('vs ')\n",
        "\n",
        "fcteamdict = {'ATL' : 'Atlanta', 'BOS':'Boston', 'BKN': 'Brooklyn', 'CHA' : 'Charlotte',\n",
        "                   'WAS' : 'Washington', 'POR':'Portland', 'CHI':'Chicago',\n",
        "                   'HOU' : 'Houston', 'DET':'Detroit', 'CLE':'Cleveland',\n",
        "                   'DEN':'Denver', 'DAL':'Dallas', 'IND':'Indiana', \n",
        "                   'MEM':'Memphis', 'MIA':'Miami', 'MIL':'Milwaukee',\n",
        "                   'NOP':'New Orleans', 'NYK':'New York', 'ORL':'Orlando',\n",
        "                   'PHI':'Philadelphia', 'PHX': 'Phoenix', 'SAS':'San Antonio',\n",
        "                   'TOR':'Toronto', 'UTA':'Utah', 'SAC':'Sacramento',\n",
        "                   'MIN':'Minnesota', 'OKC':'Oklahoma City', 'GSW':'Golden State', \n",
        "                   'LAL': 'LA Lakers', 'LAC' : 'LA Clippers'}\n",
        "\n",
        "slate['opp'] = slate['opp'].map(fcteamdict)\n",
        "\n",
        "slate = slate[['player', 'team', 'opp', 'proj mins', 'own']].copy()\n",
        "slate = slate[slate['proj mins'] >= 0.5].copy()"
      ],
      "execution_count": null,
      "outputs": []
    },
    {
      "cell_type": "code",
      "metadata": {
        "id": "6ka2hSAjTb2t"
      },
      "source": [
        "playerdict = {'Guillermo Hernangomez' : 'Willy Hernangomez', 'J.J. Redick' : 'JJ Redick',\n",
        "              'James Ennis' : 'James Ennis III', 'Robert Williams' : 'Robert Williams III',\n",
        "              'Marcus Morris' : 'Marcus Morris Sr.', 'DeAndre Bembry' : \"DeAndre' Bembry\",\n",
        "              'PJ Washington' : 'P.J. Washington', 'Raulzinho Neto' : 'Raul Neto', \n",
        "              'Mohamed Bamba' : 'Mo Bamba', 'Bruce Brown Jr.' : 'Bruce Brown', \n",
        "              'Danuel House' : 'Danuel House Jr.', 'Juan Hernangomez' : 'Juancho Hernangomez',\n",
        "              'Patrick Mills' : 'Patty Mills', 'Kevin Knox' : 'Kevin Knox II',\n",
        "              'Otto Porter' : 'Otto Porter Jr.', 'C.J. McCollum' : 'CJ McCollum', \n",
        "              'KJ Martin Jr.' : 'Kenyon Martin Jr.', 'Ishmael Smith' : 'Ish Smith',\n",
        "              'Harry Giles' : 'Harry Giles III', 'Charlie Brown' : 'Charlie Brown Jr.',\n",
        "              'Wesley Iwundu' : 'Wes Iwundu', 'TJ Leaf' : 'T.J. Leaf',\n",
        "              'Troy Brown' : 'Troy Brown Jr.', 'Didi Louzada Silva' : 'Didi Louzada',\n",
        "              'Cristiano Da Silva Felicio' : 'Cristiano Felicio'              \n",
        "              }\n",
        "\n",
        "slate['player'] = slate['player'].map(playerdict).fillna(slate['player'])\n",
        "\n",
        "players_today = slate[slate['proj mins'] >= 0.5]['player'].unique()\n",
        "features_needed = features + ['player', 'mpg', 'starter_avg']\n",
        "\n",
        "latest_stats = df[df['player'].isin(players_today)].groupby('player',as_index = True)[features_needed].tail(1)"
      ],
      "execution_count": null,
      "outputs": []
    },
    {
      "cell_type": "code",
      "metadata": {
        "colab": {
          "base_uri": "https://localhost:8080/"
        },
        "id": "KKQ0K0b9Tv0N",
        "outputId": "606ed437-700b-495d-960e-b68e89824322"
      },
      "source": [
        "df_cruncher = pd.merge(slate, latest_stats, how = 'left', on = 'player')\n",
        "df_cruncher['extramins'] = df_cruncher['proj mins'] - df_cruncher['mpg']\n",
        "print(set(players_today).difference(set(latest_stats['player'])))"
      ],
      "execution_count": null,
      "outputs": [
        {
          "output_type": "stream",
          "text": [
            "set()\n"
          ],
          "name": "stdout"
        }
      ]
    },
    {
      "cell_type": "code",
      "metadata": {
        "id": "8T7MNT5KqNth"
      },
      "source": [
        "from fuzzywuzzy import process\n",
        "\n",
        "\"\"\" Get the starters from Rotowire \"\"\"\n",
        "roto = requests.get('https://www.rotowire.com/basketball/nba-lineups.php')\n",
        "soup = BeautifulSoup(roto.content)\n",
        "\n",
        "starters = []\n",
        "\n",
        "for s in soup.find_all('li', class_ = 'lineup__player is-pct-play-100'):\n",
        "  s = str(s)\n",
        "  starters.append(s.split(\">\")[4].replace('</a',''))\n",
        "\n",
        "# for starter in starters:\n",
        "#   q = starter.split()[0]\n",
        "#   p = starter.split()[1]\n",
        "#   print(df_cruncher[df_cruncher['player'].str.contains(p)])\n",
        "\n",
        "matches = []\n",
        "\n",
        "for starter in starters:\n",
        "  h = process.extract(starter, df_cruncher['player'].unique())\n",
        "  matches.append(h[0][0])"
      ],
      "execution_count": null,
      "outputs": []
    },
    {
      "cell_type": "code",
      "metadata": {
        "id": "I8Cs45H3U80Q"
      },
      "source": [
        "df_cruncher['min_rank'] = df_cruncher.groupby('team')['proj mins'].rank(\"dense\", ascending = False)\n",
        "df_cruncher['starter'] = [1 if player in matches else 0 for player in df_cruncher['player']]\n",
        "df_cruncher['starter'] = [1 if min >= 26 else 0 for min in df_cruncher['proj mins']]\n",
        "df_cruncher['starter_diff'] = df_cruncher['starter'] - df_cruncher['starter_avg']"
      ],
      "execution_count": null,
      "outputs": []
    },
    {
      "cell_type": "code",
      "metadata": {
        "id": "TcJ-r85X5W6z"
      },
      "source": [
        "players_to_start = ['Grant Williams', 'Justin Holiday', \"DeAndre' Bembry\", 'Keldon Johnson',\n",
        "                    'Dejounte Murray']\n",
        "\n",
        "players_to_unstart = []\n",
        "\n",
        "def start(df, player):\n",
        "  df.loc[df['player'] == player, 'starter'] = 1\n",
        "  \n",
        "def unstart(df, player):\n",
        "  df.loc[df['player'] == player, 'starter'] = 0\n",
        "\n",
        "[start(df_cruncher, player) for player in players_to_start]\n",
        "[unstart(df_cruncher, player) for player in players_to_unstart]"
      ],
      "execution_count": null,
      "outputs": []
    },
    {
      "cell_type": "code",
      "metadata": {
        "id": "RoNUxAybWN6U"
      },
      "source": [
        "latest_defense = df.groupby('opponent', as_index = True)[['opponent','oppfp48']].tail(1)\n",
        "df_cruncher = pd.merge(df_cruncher, latest_defense, how = 'left', left_on = 'opp', right_on = 'opponent')\n",
        "df_cruncher = df_cruncher.drop(columns = ['min_rank', 'oppfp48_x', 'starter_avg', 'opponent'])\n",
        "df_cruncher = df_cruncher.rename(columns = {'oppfp48_y' : 'oppfp48'})"
      ],
      "execution_count": null,
      "outputs": []
    },
    {
      "cell_type": "code",
      "metadata": {
        "id": "gJdel5LBXt45"
      },
      "source": [
        "df_cruncher['starterfpgame'] = df_cruncher.groupby(['team','starter'])['avgfp'].transform(lambda x: x.sum())"
      ],
      "execution_count": null,
      "outputs": []
    },
    {
      "cell_type": "code",
      "metadata": {
        "id": "RIwPl_EMW4Uk"
      },
      "source": [
        "# df_cruncher = df_cruncher[df_cruncher['proj mins'] >= 0.5].copy()\n",
        "df_cruncher['model_proj'] = model_xg.predict(df_cruncher[features])\n",
        "df_cruncher['80th_percentile'] = (model_q.predict(df_cruncher[features], quantile = 80)).round(1)\n",
        "df_cruncher['80th_catboost'] = (model_cat.predict(df_cruncher[features]).round(1))\n",
        "df_cruncher['model_proj'] = (df_cruncher['model_proj']).round(1)"
      ],
      "execution_count": null,
      "outputs": []
    },
    {
      "cell_type": "code",
      "metadata": {
        "colab": {
          "base_uri": "https://localhost:8080/",
          "height": 787
        },
        "id": "9vYvQ8dAqKSJ",
        "outputId": "817fe7a3-1aba-4cbd-9228-98bebdc96472"
      },
      "source": [
        "df_cruncher[['player', 'model_proj', '80th_percentile', '80th_catboost']].sort_values(by = 'model_proj', ascending = False).head(25)"
      ],
      "execution_count": null,
      "outputs": [
        {
          "output_type": "execute_result",
          "data": {
            "text/html": [
              "<div>\n",
              "<style scoped>\n",
              "    .dataframe tbody tr th:only-of-type {\n",
              "        vertical-align: middle;\n",
              "    }\n",
              "\n",
              "    .dataframe tbody tr th {\n",
              "        vertical-align: top;\n",
              "    }\n",
              "\n",
              "    .dataframe thead th {\n",
              "        text-align: right;\n",
              "    }\n",
              "</style>\n",
              "<table border=\"1\" class=\"dataframe\">\n",
              "  <thead>\n",
              "    <tr style=\"text-align: right;\">\n",
              "      <th></th>\n",
              "      <th>player</th>\n",
              "      <th>model_proj</th>\n",
              "      <th>80th_percentile</th>\n",
              "      <th>80th_catboost</th>\n",
              "    </tr>\n",
              "  </thead>\n",
              "  <tbody>\n",
              "    <tr>\n",
              "      <th>98</th>\n",
              "      <td>Giannis Antetokounmpo</td>\n",
              "      <td>61.700001</td>\n",
              "      <td>70.8</td>\n",
              "      <td>66.3</td>\n",
              "    </tr>\n",
              "    <tr>\n",
              "      <th>0</th>\n",
              "      <td>Russell Westbrook</td>\n",
              "      <td>58.400002</td>\n",
              "      <td>73.2</td>\n",
              "      <td>68.9</td>\n",
              "    </tr>\n",
              "    <tr>\n",
              "      <th>40</th>\n",
              "      <td>Luka Doncic</td>\n",
              "      <td>55.700001</td>\n",
              "      <td>72.2</td>\n",
              "      <td>67.1</td>\n",
              "    </tr>\n",
              "    <tr>\n",
              "      <th>110</th>\n",
              "      <td>LeBron James</td>\n",
              "      <td>50.599998</td>\n",
              "      <td>64.5</td>\n",
              "      <td>58.7</td>\n",
              "    </tr>\n",
              "    <tr>\n",
              "      <th>9</th>\n",
              "      <td>Stephen Curry</td>\n",
              "      <td>50.000000</td>\n",
              "      <td>58.2</td>\n",
              "      <td>61.1</td>\n",
              "    </tr>\n",
              "    <tr>\n",
              "      <th>7</th>\n",
              "      <td>Julius Randle</td>\n",
              "      <td>49.700001</td>\n",
              "      <td>58.4</td>\n",
              "      <td>57.8</td>\n",
              "    </tr>\n",
              "    <tr>\n",
              "      <th>16</th>\n",
              "      <td>Domantas Sabonis</td>\n",
              "      <td>49.400002</td>\n",
              "      <td>58.1</td>\n",
              "      <td>58.8</td>\n",
              "    </tr>\n",
              "    <tr>\n",
              "      <th>104</th>\n",
              "      <td>Trae Young</td>\n",
              "      <td>49.000000</td>\n",
              "      <td>59.2</td>\n",
              "      <td>53.6</td>\n",
              "    </tr>\n",
              "    <tr>\n",
              "      <th>33</th>\n",
              "      <td>Bradley Beal</td>\n",
              "      <td>48.299999</td>\n",
              "      <td>57.9</td>\n",
              "      <td>56.5</td>\n",
              "    </tr>\n",
              "    <tr>\n",
              "      <th>36</th>\n",
              "      <td>Karl-Anthony Towns</td>\n",
              "      <td>48.200001</td>\n",
              "      <td>57.5</td>\n",
              "      <td>57.3</td>\n",
              "    </tr>\n",
              "    <tr>\n",
              "      <th>18</th>\n",
              "      <td>Damian Lillard</td>\n",
              "      <td>48.099998</td>\n",
              "      <td>57.8</td>\n",
              "      <td>56.3</td>\n",
              "    </tr>\n",
              "    <tr>\n",
              "      <th>61</th>\n",
              "      <td>Kevin Durant</td>\n",
              "      <td>46.700001</td>\n",
              "      <td>57.5</td>\n",
              "      <td>55.0</td>\n",
              "    </tr>\n",
              "    <tr>\n",
              "      <th>77</th>\n",
              "      <td>Kawhi Leonard</td>\n",
              "      <td>46.500000</td>\n",
              "      <td>55.7</td>\n",
              "      <td>53.2</td>\n",
              "    </tr>\n",
              "    <tr>\n",
              "      <th>59</th>\n",
              "      <td>Kyrie Irving</td>\n",
              "      <td>44.599998</td>\n",
              "      <td>57.8</td>\n",
              "      <td>51.7</td>\n",
              "    </tr>\n",
              "    <tr>\n",
              "      <th>28</th>\n",
              "      <td>Jonas Valanciunas</td>\n",
              "      <td>44.000000</td>\n",
              "      <td>54.0</td>\n",
              "      <td>52.8</td>\n",
              "    </tr>\n",
              "    <tr>\n",
              "      <th>41</th>\n",
              "      <td>Anthony Davis</td>\n",
              "      <td>42.599998</td>\n",
              "      <td>54.8</td>\n",
              "      <td>53.6</td>\n",
              "    </tr>\n",
              "    <tr>\n",
              "      <th>60</th>\n",
              "      <td>Paul George</td>\n",
              "      <td>41.900002</td>\n",
              "      <td>53.7</td>\n",
              "      <td>54.4</td>\n",
              "    </tr>\n",
              "    <tr>\n",
              "      <th>78</th>\n",
              "      <td>Rudy Gobert</td>\n",
              "      <td>40.700001</td>\n",
              "      <td>50.5</td>\n",
              "      <td>51.2</td>\n",
              "    </tr>\n",
              "    <tr>\n",
              "      <th>179</th>\n",
              "      <td>Nikola Jokic</td>\n",
              "      <td>40.700001</td>\n",
              "      <td>59.6</td>\n",
              "      <td>25.1</td>\n",
              "    </tr>\n",
              "    <tr>\n",
              "      <th>73</th>\n",
              "      <td>Jrue Holiday</td>\n",
              "      <td>40.099998</td>\n",
              "      <td>49.0</td>\n",
              "      <td>48.5</td>\n",
              "    </tr>\n",
              "    <tr>\n",
              "      <th>17</th>\n",
              "      <td>Caris LeVert</td>\n",
              "      <td>40.099998</td>\n",
              "      <td>49.0</td>\n",
              "      <td>49.3</td>\n",
              "    </tr>\n",
              "    <tr>\n",
              "      <th>72</th>\n",
              "      <td>Kristaps Porzingis</td>\n",
              "      <td>40.000000</td>\n",
              "      <td>50.5</td>\n",
              "      <td>47.2</td>\n",
              "    </tr>\n",
              "    <tr>\n",
              "      <th>117</th>\n",
              "      <td>Dejounte Murray</td>\n",
              "      <td>39.900002</td>\n",
              "      <td>47.8</td>\n",
              "      <td>49.6</td>\n",
              "    </tr>\n",
              "    <tr>\n",
              "      <th>22</th>\n",
              "      <td>CJ McCollum</td>\n",
              "      <td>38.900002</td>\n",
              "      <td>46.4</td>\n",
              "      <td>47.8</td>\n",
              "    </tr>\n",
              "    <tr>\n",
              "      <th>37</th>\n",
              "      <td>LaMelo Ball</td>\n",
              "      <td>38.000000</td>\n",
              "      <td>45.8</td>\n",
              "      <td>45.8</td>\n",
              "    </tr>\n",
              "  </tbody>\n",
              "</table>\n",
              "</div>"
            ],
            "text/plain": [
              "                    player  model_proj  80th_percentile  80th_catboost\n",
              "98   Giannis Antetokounmpo   61.700001             70.8           66.3\n",
              "0        Russell Westbrook   58.400002             73.2           68.9\n",
              "40             Luka Doncic   55.700001             72.2           67.1\n",
              "110           LeBron James   50.599998             64.5           58.7\n",
              "9            Stephen Curry   50.000000             58.2           61.1\n",
              "7            Julius Randle   49.700001             58.4           57.8\n",
              "16        Domantas Sabonis   49.400002             58.1           58.8\n",
              "104             Trae Young   49.000000             59.2           53.6\n",
              "33            Bradley Beal   48.299999             57.9           56.5\n",
              "36      Karl-Anthony Towns   48.200001             57.5           57.3\n",
              "18          Damian Lillard   48.099998             57.8           56.3\n",
              "61            Kevin Durant   46.700001             57.5           55.0\n",
              "77           Kawhi Leonard   46.500000             55.7           53.2\n",
              "59            Kyrie Irving   44.599998             57.8           51.7\n",
              "28       Jonas Valanciunas   44.000000             54.0           52.8\n",
              "41           Anthony Davis   42.599998             54.8           53.6\n",
              "60             Paul George   41.900002             53.7           54.4\n",
              "78             Rudy Gobert   40.700001             50.5           51.2\n",
              "179           Nikola Jokic   40.700001             59.6           25.1\n",
              "73            Jrue Holiday   40.099998             49.0           48.5\n",
              "17            Caris LeVert   40.099998             49.0           49.3\n",
              "72      Kristaps Porzingis   40.000000             50.5           47.2\n",
              "117        Dejounte Murray   39.900002             47.8           49.6\n",
              "22             CJ McCollum   38.900002             46.4           47.8\n",
              "37             LaMelo Ball   38.000000             45.8           45.8"
            ]
          },
          "metadata": {
            "tags": []
          },
          "execution_count": 38
        }
      ]
    }
  ]
}