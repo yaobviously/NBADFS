{
  "nbformat": 4,
  "nbformat_minor": 0,
  "metadata": {
    "colab": {
      "name": "nbadfs.ipynb",
      "provenance": [],
      "collapsed_sections": [],
      "mount_file_id": "https://github.com/yaobviously/NBADFS/blob/main/nbadfs.ipynb",
      "authorship_tag": "ABX9TyP6UcM0ulhWojfauHDK587f",
      "include_colab_link": true
    },
    "kernelspec": {
      "display_name": "Python 3",
      "name": "python3"
    },
    "language_info": {
      "name": "python"
    }
  },
  "cells": [
    {
      "cell_type": "markdown",
      "metadata": {
        "id": "view-in-github",
        "colab_type": "text"
      },
      "source": [
        "<a href=\"https://colab.research.google.com/github/yaobviously/NBADFS/blob/main/nbadfs.ipynb\" target=\"_parent\"><img src=\"https://colab.research.google.com/assets/colab-badge.svg\" alt=\"Open In Colab\"/></a>"
      ]
    },
    {
      "cell_type": "code",
      "metadata": {
        "colab": {
          "base_uri": "https://localhost:8080/"
        },
        "id": "Grk_-QkPqY5B",
        "outputId": "ba3a9a70-034b-4daf-90d7-6bb97b01cf57"
      },
      "source": [
        "!pip install category_encoders --quiet\n",
        "!pip install shap --quiet\n",
        "!pip install requests --quiet\n",
        "!pip install beautifulsoup4 --quiet\n",
        "!pip install fuzzywuzzy --quiet\n",
        "!pip install scikit-garden --quiet"
      ],
      "execution_count": 1,
      "outputs": [
        {
          "output_type": "stream",
          "text": [
            "\u001b[K     |████████████████████████████████| 80 kB 2.8 MB/s \n",
            "\u001b[K     |████████████████████████████████| 356 kB 5.2 MB/s \n",
            "\u001b[?25h  Building wheel for shap (setup.py) ... \u001b[?25l\u001b[?25hdone\n",
            "\u001b[K     |████████████████████████████████| 317 kB 5.0 MB/s \n",
            "\u001b[?25h  Building wheel for scikit-garden (setup.py) ... \u001b[?25l\u001b[?25hdone\n"
          ],
          "name": "stdout"
        }
      ]
    },
    {
      "cell_type": "markdown",
      "metadata": {
        "id": "3xN2uYU68X3N"
      },
      "source": [
        "Looking this over, it needs to be reorganized with my newfound skills! But it works well and predicting quantiles is the key insight to gain an edge on the field. \n",
        "\n",
        "Quantile loss functions can be used to train neural networks to do the same, but\n",
        "they do not outperform the random forests until the dataset is large. That said, I should get more data and run the tests myself."
      ]
    },
    {
      "cell_type": "code",
      "metadata": {
        "id": "yr3AnUVCFPi-"
      },
      "source": [
        "thisyear = '/content/drive/MyDrive/NBA Player Box Scores/nba_2021_boxscores.csv'\n",
        "\n",
        "# i'd load the daily slate right here\n",
        "slate = '/content/drive/MyDrive/slatemay3.csv'"
      ],
      "execution_count": 18,
      "outputs": []
    },
    {
      "cell_type": "code",
      "metadata": {
        "id": "I21HBmB7oyxm",
        "outputId": "756f1e08-2773-4b30-d9cf-0efc173c3f86",
        "colab": {
          "base_uri": "https://localhost:8080/"
        }
      },
      "source": [
        "import pandas as pd\n",
        "import numpy as np\n",
        "import matplotlib.pyplot as plt\n",
        "import shap\n",
        "import joblib\n",
        "import requests\n",
        "from fuzzywuzzy import process\n",
        "from bs4 import BeautifulSoup\n",
        "from category_encoders import OrdinalEncoder\n",
        "from sklearn.impute import SimpleImputer\n",
        "from sklearn.pipeline import make_pipeline\n",
        "from xgboost import XGBRegressor\n",
        "from skgarden import RandomForestQuantileRegressor\n",
        "from sklearn.model_selection import RandomizedSearchCV\n",
        "from sklearn.inspection import permutation_importance\n",
        "from sklearn.metrics import mean_squared_error\n",
        "from xgboost import plot_importance"
      ],
      "execution_count": 3,
      "outputs": [
        {
          "output_type": "stream",
          "text": [
            "Using slow pure-python SequenceMatcher. Install python-Levenshtein to remove this warning\n",
            "pandas.util.testing is deprecated. Use the functions in the public API at pandas.testing instead.\n",
            "The sklearn.ensemble.forest module is  deprecated in version 0.22 and will be removed in version 0.24. The corresponding classes / functions should instead be imported from sklearn.ensemble. Anything that cannot be imported from sklearn.ensemble is now part of the private API.\n",
            "The module is deprecated in version 0.21 and will be removed in version 0.23 since we've dropped support for Python 2.7. Please rely on the official version of six (https://pypi.org/project/six/).\n",
            "The sklearn.tree.tree module is  deprecated in version 0.22 and will be removed in version 0.24. The corresponding classes / functions should instead be imported from sklearn.tree. Anything that cannot be imported from sklearn.tree is now part of the private API.\n"
          ],
          "name": "stderr"
        }
      ]
    },
    {
      "cell_type": "code",
      "metadata": {
        "id": "XBKTj3yVe0X3"
      },
      "source": [
        "def wrangle(url):\n",
        "    \n",
        "    \n",
        "    df = pd.read_csv(url,\n",
        "                     parse_dates = ['DATE'],\n",
        "                     index_col = 'DATE')\n",
        "    \n",
        "    df = df.rename(columns={'BIGDATABALL\\nDATASET' : 'game_type',\n",
        "                            'GAME-ID' : 'gameid',                            \n",
        "                            'PLAYER-ID' : 'playerid',\n",
        "                            'PLAYER \\nFULL NAME' : 'player',\n",
        "                            'POSITION' : 'position',\n",
        "                            'OWN \\nTEAM' : 'team', \n",
        "                            'OPPONENT \\nTEAM' : 'opponent',\n",
        "                            'VENUE\\n(R/H)' : 'venue',\n",
        "                            'STARTER\\n(Y/N)' : 'starter',\n",
        "                            'USAGE \\nRATE (%)' : 'usage',\n",
        "                            'DAYS\\nREST' : 'rest',\n",
        "                            'TOT' : 'totreb'})\n",
        "    \n",
        "    df.columns = df.columns.str.lower()\n",
        "    \n",
        "    df['starter'] = [1 if start == 'Y' else 0 for start in df['starter']]\n",
        "    df['venue'] = df.venue.map({'H' : 1, 'R' : 0})\n",
        "    df['month'] = pd.DatetimeIndex(df.index).month\n",
        "\n",
        "    # computing bonus points for double-doubles and triple-doubles\n",
        "    \n",
        "    df['dbl_digits'] = (df[['pts', 'a', 'totreb', 'st', 'bl']] >= 10).astype(int).sum(axis=1)    \n",
        "    df['bonus'] = 0\n",
        "    df['bonus'].loc[df['dbl_digits'] == 2] = 1.5    \n",
        "    df['bonus'].loc[df['dbl_digits'] == 3] = 4.5\n",
        "    \n",
        "    # computing player fantasy points and game rate\n",
        "    df['playerfp'] = (df['pts'] + \\\n",
        "                      df['a'] * 1.5 + \\\n",
        "                      df['totreb'] * 1.25 + \\\n",
        "                      df['st'] * 2 + \\\n",
        "                      df['bl'] * 2 + \\\n",
        "                      df['3p'] * 0.5 + \\\n",
        "                      df['to'] * -0.5 + \\\n",
        "                      df['bonus']\n",
        "                      )\n",
        "    df['gamefp36'] = ((df['playerfp'] / df['min']) * 36).round(1)\n",
        "    \n",
        "    # computing rolling team fantasy points\n",
        "    \n",
        "    df['teamfp'] = df.groupby(['gameid', 'team'])['playerfp'].transform(sum)\n",
        "    \n",
        "    tm21 = df.groupby(['gameid', 'team'], as_index = False).agg(teamfp = ('playerfp', 'sum'),\n",
        "                                                                teammin = ('min', 'sum')).drop_duplicates()\n",
        "\n",
        "    opp21 = df.groupby(['gameid', 'opponent'], as_index = False).agg(oppfp = ('playerfp', 'sum'),\n",
        "                                                                     oppmin = ('min', 'sum')).drop_duplicates()\n",
        "\n",
        "    tm21['totteamfp'] = tm21.groupby('team')['teamfp'].transform(lambda x: x.expanding().sum().shift())\n",
        "    tm21['totteammin'] = tm21.groupby('team')['teammin'].transform(lambda x: x.expanding().sum().shift())\n",
        "    tm21['fp48'] = (tm21['totteamfp'] / tm21['totteammin']) * 240\n",
        "    tmdf = tm21[['gameid', 'team', 'fp48']].copy()\n",
        "\n",
        "    df = df.reset_index().merge(tmdf, how = 'left', on = ['gameid', 'team']).set_index('DATE')\n",
        "\n",
        "    # computing rolling defense stats\n",
        "\n",
        "    opp21 = df.groupby(['gameid', 'opponent'], as_index = False).agg(opponent_fp = ('playerfp', 'sum'),\n",
        "                                                                 opponent_min = ('min', 'sum'))\n",
        "\n",
        "    opp21['totoppfp'] = opp21.groupby('opponent')['opponent_fp'].transform(lambda x: x.expanding().sum().shift())\n",
        "    opp21['totoppmin'] = opp21.groupby('opponent')['opponent_min'].transform(lambda x: x.expanding().sum().shift())\n",
        "    opp21['oppfp48'] = (opp21['totoppfp'] / opp21['totoppmin']) * 240\n",
        "    oppdf = opp21[['gameid', 'opponent', 'oppfp48']]\n",
        "\n",
        "    df = df.reset_index().merge(oppdf, how = 'left', on = ['gameid', 'opponent']).set_index('DATE')\n",
        "    \n",
        "    # computing running and rolling averages for players\n",
        "\n",
        "    df['gamesplayed'] = df.groupby('player')['gameid'].cumcount().shift()\n",
        "    df['avgfp'] = df.groupby('player')['playerfp'].transform(lambda x: x.expanding().mean().shift())\n",
        "    df['avgfga'] = df.groupby('player')['fga'].transform(lambda x: x.expanding().mean().shift())   \n",
        "    df['totmin'] = df.groupby('player')['min'].transform(lambda x: x.cumsum().shift())\n",
        "    df['totfp'] = df.groupby('player')['playerfp'].transform(lambda x: x.cumsum().shift())\n",
        "    df['seasonfppm'] = (df['totfp'] / df['totmin']).round(2)\n",
        "    df['ptsseason'] = df.groupby('player')['pts'].transform(lambda x: x.expanding().sum().shift())\n",
        "    df['ftaseas'] = df.groupby('player')['fta'].transform(lambda x: x.expanding().sum().shift())\n",
        "    df['fgaseas'] = df.groupby('player')['fga'].transform(lambda x: x.expanding().sum().shift())\n",
        "    df['3paseas'] = df.groupby('player')['3pa'].transform(lambda x: x.expanding().sum().shift())\n",
        "    df['3fraction'] = df['3paseas']/df['fgaseas']\n",
        "    df['starter_avg'] = df.groupby('player')['starter'].transform(lambda x: x.expanding().mean().shift())\n",
        "    df['starter_diff'] = df['starter'] - df['starter_avg']\n",
        "    \n",
        "    df['ts_season'] = (df['ptsseason'] / (2 * (df['fgaseas'] + (df['ftaseas'] * 0.44)))).round(3)\n",
        "    \n",
        "    df['mpg'] = df.groupby('player')['min'].transform(lambda x: x.expanding().mean().shift())\n",
        "    df['rollingmpg'] = df.groupby('player')['min'].transform(lambda x:\n",
        "                                                             x.rolling(3, min_periods = 1)\n",
        "                                                             .mean()\n",
        "                                                             .shift())\n",
        "    \n",
        "    df['avgusage'] = df.groupby('player')['usage'].transform(lambda x:\n",
        "                                                             x.expanding()\n",
        "                                                             .mean()\n",
        "                                                             .shift())\n",
        "    \n",
        "    df['rollingusage'] = df.groupby('player')['usage'].transform(lambda x:\n",
        "                                                                 x.rolling(5)\n",
        "                                                                 .mean()\n",
        "                                                                 .shift())  \n",
        "    \n",
        "    df['stdgamefp'] = df.groupby('player')['gamefp36'].transform(lambda x:\n",
        "                                                                 x.expanding()\n",
        "                                                                 .std()\n",
        "                                                                 .shift())  \n",
        "    \n",
        "    df['maxfp'] = df.groupby('player')['playerfp'].transform(lambda x: x.expanding().max().shift())\n",
        "    df['rollingmaxfp'] = df.groupby('player')['playerfp'].transform(lambda x: x.rolling(5).max().shift())\n",
        "    df['maxmin'] = df.groupby('player')['min'].transform(lambda x: x.rolling(8).max().shift())\n",
        "    df['minmin'] = df.groupby('player')['min'].transform(lambda x: x.rolling(8).min().shift())    \n",
        "    df['extramins'] = df['rollingmpg'] - df['mpg']\n",
        "    df['extrausage'] = df['rollingusage'] - df['avgusage']\n",
        "    df['league3p'] = df['3p'].expanding().sum().shift()\n",
        "    df['league3pa'] = df['3pa'].expanding().sum().shift()\n",
        "    df['league3perc'] = (df['league3p'] / df['league3pa']).round(3)\n",
        "    \n",
        "    df['starter_avg'] = df.groupby('player')['starter'].transform(lambda x: x.expanding().mean().shift())\n",
        "    df['starter_diff'] = df['starter'] - df['starter_avg']\n",
        "    df['did_boom'] = (df['playerfp'] >= (df['avgfp'] + 8)).astype(int)\n",
        "    df['above_avg'] = (df['playerfp'] > df['avgfp']).astype(int)\n",
        "\n",
        "    # calculating starter stats\n",
        "    df['gamestartersum'] = df.groupby(['gameid', 'team', 'starter'])['starter_avg'].transform(sum)\n",
        "    df['oppstartersum'] = df.groupby(['gameid', 'opponent', 'starter'])['starter_avg'].transform(sum)\n",
        "    df['starterfpgame'] = df.groupby(['gameid', 'team', 'starter'])['avgfp'].transform(sum)\n",
        "    df['starterfraction'] = df['starterfpgame'] / df['fp48']\n",
        "    # dropping colums i don't need \n",
        "    \n",
        "    col_drop = ['dbl_digits', 'playerid', 'ptsseason', 'ftaseas','fgaseas',\n",
        "                'league3p', 'league3pa', '3paseas']   \n",
        "\n",
        "    df.drop(col_drop, axis = 1, inplace = True)\n",
        "    \n",
        "    return df"
      ],
      "execution_count": 7,
      "outputs": []
    },
    {
      "cell_type": "code",
      "metadata": {
        "id": "MRqmBCmGvbqP",
        "outputId": "e886058a-09d1-4b85-e209-24466088ed3e",
        "colab": {
          "base_uri": "https://localhost:8080/"
        }
      },
      "source": [
        "df = wrangle(thisyear)"
      ],
      "execution_count": 8,
      "outputs": [
        {
          "output_type": "stream",
          "text": [
            "\n",
            "A value is trying to be set on a copy of a slice from a DataFrame\n",
            "\n",
            "See the caveats in the documentation: https://pandas.pydata.org/pandas-docs/stable/user_guide/indexing.html#returning-a-view-versus-a-copy\n",
            "\n",
            "A value is trying to be set on a copy of a slice from a DataFrame\n",
            "\n",
            "See the caveats in the documentation: https://pandas.pydata.org/pandas-docs/stable/user_guide/indexing.html#returning-a-view-versus-a-copy\n"
          ],
          "name": "stderr"
        }
      ]
    },
    {
      "cell_type": "code",
      "metadata": {
        "id": "koxJQjfSs4b6"
      },
      "source": [
        "\n",
        "game_stats = ['min', 'fg', 'fga', '3p', '3pa', 'ft', 'fta', 'or', 'dr',\n",
        "              'totreb', 'a', 'pf', 'st', 'to', 'bl', 'pts', 'usage',\n",
        "              'bonus', 'teamfp', 'gameid', 'game_type',\n",
        "              'gamefp36', 'above_avg', 'playerfp']\n",
        "\n",
        "# the model features. total starter fp/game is a feature with value that's understood\n",
        "# but not fully\n",
        "\n",
        "model_cols = ['avgfp', 'starter', 'extramins', 'rollingmaxfp', 'starter_diff',\n",
        "            'seasonfppm', 'starterfpgame', 'oppfp48', 'playerfp', 'stdgamefp'        \n",
        "                                       \n",
        "            \n",
        "            ]\n",
        "\n",
        "df_model = df[model_cols]"
      ],
      "execution_count": 9,
      "outputs": []
    },
    {
      "cell_type": "code",
      "metadata": {
        "id": "SvkD_oSDqVBb"
      },
      "source": [
        "# In this cell we specify the target and divide the data set into the train and\n",
        "# test sets using a date threshold\n",
        "\n",
        "target = 'playerfp'\n",
        "\n",
        "date_threshold = '2021-03-01'\n",
        "mask = df_model.index < date_threshold\n",
        "\n",
        "X = df_model.drop(target, axis = 1)\n",
        "y = df_model[target]\n",
        "\n",
        "X_train, y_train = X[mask], y[mask]\n",
        "X_test, y_test = X[~mask], y[~mask]"
      ],
      "execution_count": 10,
      "outputs": []
    },
    {
      "cell_type": "code",
      "metadata": {
        "colab": {
          "base_uri": "https://localhost:8080/"
        },
        "id": "354mMzj8rg8e",
        "outputId": "4ed38344-6616-4cca-ffe4-bbd51a38590a"
      },
      "source": [
        "baseline = mean_squared_error(y_test, X_test['avgfp'].fillna(method = 'bfill'))\n",
        "\n",
        "print('The mean squared error using only player average fp to date is:', baseline)"
      ],
      "execution_count": 11,
      "outputs": [
        {
          "output_type": "stream",
          "text": [
            "The mean squared error using only player average fp to date is: 103.8001635393614\n"
          ],
          "name": "stdout"
        }
      ]
    },
    {
      "cell_type": "code",
      "metadata": {
        "colab": {
          "base_uri": "https://localhost:8080/"
        },
        "id": "ODBspAeJzpBi",
        "outputId": "06edc4c3-ff34-4e60-968c-d537443d73fd"
      },
      "source": [
        "# training an xgboost model to predict the mean expected score\n",
        "\n",
        "model_xg = make_pipeline(\n",
        "    OrdinalEncoder(),\n",
        "    SimpleImputer(strategy = 'mean'),\n",
        "    XGBRegressor(eval_metric = 'rmse',\n",
        "                 n_estimators = 75,\n",
        "                 max_depth = 3\n",
        "                 )\n",
        ")\n",
        "\n",
        "model_xg.fit(X_train, y_train)\n",
        "\n",
        "# getting the features name - will be used to predict\n",
        "features = model_xg.named_steps['ordinalencoder'].get_feature_names()\n",
        "\n",
        "mean_squared_error(y_test, model_xg.predict(X_test))"
      ],
      "execution_count": 13,
      "outputs": [
        {
          "output_type": "stream",
          "text": [
            "[15:03:22] WARNING: /workspace/src/objective/regression_obj.cu:152: reg:linear is now deprecated in favor of reg:squarederror.\n"
          ],
          "name": "stdout"
        },
        {
          "output_type": "execute_result",
          "data": {
            "text/plain": [
              "94.74443918982443"
            ]
          },
          "metadata": {},
          "execution_count": 13
        }
      ]
    },
    {
      "cell_type": "code",
      "metadata": {
        "id": "VGTUPpw4V8AV"
      },
      "source": [
        "features = model_xg.named_steps['ordinalencoder'].get_feature_names()"
      ],
      "execution_count": 14,
      "outputs": []
    },
    {
      "cell_type": "code",
      "metadata": {
        "id": "LdoyHyrRyWUY"
      },
      "source": [
        "# training the RF quantile forest with the optimized parameters (from other runs)\n",
        "\n",
        "model_q = make_pipeline(\n",
        "    OrdinalEncoder(),\n",
        "    SimpleImputer(),\n",
        "    RandomForestQuantileRegressor(n_estimators = 175,\n",
        "                                  min_samples_leaf = 10)\n",
        ")\n",
        "\n",
        "model_q.fit(X_train, y_train);"
      ],
      "execution_count": null,
      "outputs": []
    },
    {
      "cell_type": "code",
      "metadata": {
        "colab": {
          "base_uri": "https://localhost:8080/"
        },
        "id": "MfcLqNmL9oCo",
        "outputId": "65871843-8c0e-426e-ace7-995697e7571d"
      },
      "source": [
        "# retraining the xgboost model to get the shapley plots\n",
        "\n",
        "encoder = OrdinalEncoder()\n",
        "imputer = SimpleImputer()\n",
        "booster = XGBRegressor(eval_metric = 'rmse',\n",
        "                        n_estimators = 100,\n",
        "                        learning_rate = 0.1)\n",
        "\n",
        "X_test_encoded = encoder.fit_transform(X_test)\n",
        "X_test_imputed = imputer.fit_transform(X_test_encoded)\n",
        "X_imp_df = pd.DataFrame(X_test_imputed, columns = X_test.columns)\n",
        "\n",
        "booster.fit(X_test_imputed, y_test)\n",
        "\n",
        "explainer = shap.TreeExplainer(booster)\n",
        "shap_values = explainer.shap_values(X_test_imputed)"
      ],
      "execution_count": 16,
      "outputs": [
        {
          "output_type": "stream",
          "text": [
            "[15:09:13] WARNING: /workspace/src/objective/regression_obj.cu:152: reg:linear is now deprecated in favor of reg:squarederror.\n"
          ],
          "name": "stdout"
        }
      ]
    },
    {
      "cell_type": "code",
      "metadata": {
        "colab": {
          "base_uri": "https://localhost:8080/",
          "height": 346
        },
        "id": "Npyk6nRqq4Id",
        "outputId": "c1f36d86-e3aa-423c-ecea-4c6c6a894671"
      },
      "source": [
        "shap.summary_plot(shap_values,\n",
        "                  X_imp_df,\n",
        "                  )"
      ],
      "execution_count": 17,
      "outputs": [
        {
          "output_type": "display_data",
          "data": {
            "image/png": "[encoded data removed]",
            "text/plain": [
              "<Figure size 576x367.2 with 2 Axes>"
            ]
          },
          "metadata": {
            "needs_background": "light"
          }
        }
      ]
    },
    {
      "cell_type": "code",
      "metadata": {
        "colab": {
          "base_uri": "https://localhost:8080/",
          "height": 337
        },
        "id": "YKNwR5Pm_Z9i",
        "outputId": "3aac6913-ad5b-41c1-c83e-a2578f860474"
      },
      "source": [
        "shap.dependence_plot('avgfp',\n",
        "                     shap_values,\n",
        "                     X_imp_df)"
      ],
      "execution_count": null,
      "outputs": [
        {
          "output_type": "display_data",
          "data": {
            "image/png": "[encoded data removed]",
            "text/plain": [
              "<Figure size 540x360 with 2 Axes>"
            ]
          },
          "metadata": {
            "tags": [],
            "needs_background": "light"
          }
        }
      ]
    },
    {
      "cell_type": "code",
      "metadata": {
        "id": "n7ixe3DJBAXk"
      },
      "source": [
        "# transforming the fantasy cruncher csv file into a format that allows me to \n",
        "# use my FP Projection model to project FP\n",
        "\n",
        "slate = pd.read_csv(slate)\n",
        "slate.columns = slate.columns.str.lower()\n",
        "\n",
        "slate['opp'] = slate['opp'].str.lstrip('@').str.lstrip('vs ')\n",
        "\n",
        "fcteamdict = {'ATL' : 'Atlanta', 'BOS':'Boston', 'BKN': 'Brooklyn', 'CHA' : 'Charlotte',\n",
        "                   'WAS' : 'Washington', 'POR':'Portland', 'CHI':'Chicago',\n",
        "                   'HOU' : 'Houston', 'DET':'Detroit', 'CLE':'Cleveland',\n",
        "                   'DEN':'Denver', 'DAL':'Dallas', 'IND':'Indiana', \n",
        "                   'MEM':'Memphis', 'MIA':'Miami', 'MIL':'Milwaukee',\n",
        "                   'NOP':'New Orleans', 'NYK':'New York', 'ORL':'Orlando',\n",
        "                   'PHI':'Philadelphia', 'PHX': 'Phoenix', 'SAS':'San Antonio',\n",
        "                   'TOR':'Toronto', 'UTA':'Utah', 'SAC':'Sacramento',\n",
        "                   'MIN':'Minnesota', 'OKC':'Oklahoma City', 'GSW':'Golden State', \n",
        "                   'LAL': 'LA Lakers', 'LAC' : 'LA Clippers'}\n",
        "\n",
        "slate['opp'] = slate['opp'].map(fcteamdict)\n",
        "\n",
        "slate = slate[['player', 'team', 'opp', 'proj mins', 'own']].copy()\n",
        "slate = slate[slate['proj mins'] >= 0.5].copy()"
      ],
      "execution_count": 19,
      "outputs": []
    },
    {
      "cell_type": "code",
      "metadata": {
        "id": "6ka2hSAjTb2t"
      },
      "source": [
        "playerdict = {'Guillermo Hernangomez' : 'Willy Hernangomez', 'J.J. Redick' : 'JJ Redick',\n",
        "              'James Ennis' : 'James Ennis III', 'Robert Williams' : 'Robert Williams III',\n",
        "              'Marcus Morris' : 'Marcus Morris Sr.', 'DeAndre Bembry' : \"DeAndre' Bembry\",\n",
        "              'PJ Washington' : 'P.J. Washington', 'Raulzinho Neto' : 'Raul Neto', \n",
        "              'Mohamed Bamba' : 'Mo Bamba', 'Bruce Brown Jr.' : 'Bruce Brown', \n",
        "              'Danuel House' : 'Danuel House Jr.', 'Juan Hernangomez' : 'Juancho Hernangomez',\n",
        "              'Patrick Mills' : 'Patty Mills', 'Kevin Knox' : 'Kevin Knox II',\n",
        "              'Otto Porter' : 'Otto Porter Jr.', 'C.J. McCollum' : 'CJ McCollum', \n",
        "              'KJ Martin Jr.' : 'Kenyon Martin Jr.', 'Ishmael Smith' : 'Ish Smith',\n",
        "              'Harry Giles' : 'Harry Giles III', 'Charlie Brown' : 'Charlie Brown Jr.',\n",
        "              'Wesley Iwundu' : 'Wes Iwundu', 'TJ Leaf' : 'T.J. Leaf',\n",
        "              'Troy Brown' : 'Troy Brown Jr.', 'Didi Louzada Silva' : 'Didi Louzada',\n",
        "              'Cristiano Da Silva Felicio' : 'Cristiano Felicio'              \n",
        "              }\n",
        "\n",
        "slate['player'] = slate['player'].map(playerdict).fillna(slate['player'])\n",
        "\n",
        "players_today = slate[slate['proj mins'] >= 0.5]['player'].unique()\n",
        "features_needed = features + ['player', 'mpg', 'starter_avg']\n",
        "\n",
        "latest_stats = df[df['player'].isin(players_today)].groupby('player',as_index = True)[features_needed].tail(1)"
      ],
      "execution_count": 20,
      "outputs": []
    },
    {
      "cell_type": "code",
      "metadata": {
        "colab": {
          "base_uri": "https://localhost:8080/"
        },
        "id": "KKQ0K0b9Tv0N",
        "outputId": "aaf45b58-1c0e-400b-9aeb-e176ee8d7dce"
      },
      "source": [
        "# calculates extra expected minutes from FantasyCruncher ProjMins. next year\n",
        "# i'll do my own. this cell also outputs a set of players that are missing\n",
        "# which means i have to add them to my dict\n",
        "\n",
        "df_cruncher = pd.merge(slate, latest_stats, how = 'left', on = 'player')\n",
        "df_cruncher['extramins'] = df_cruncher['proj mins'] - df_cruncher['mpg']\n",
        "\n",
        "print(set(players_today).difference(set(latest_stats['player'])))"
      ],
      "execution_count": 21,
      "outputs": [
        {
          "output_type": "stream",
          "text": [
            "set()\n"
          ],
          "name": "stdout"
        }
      ]
    },
    {
      "cell_type": "code",
      "metadata": {
        "id": "8T7MNT5KqNth"
      },
      "source": [
        "\"\"\" Get the starters from Rotowire \"\"\"\n",
        "\n",
        "roto = requests.get('https://www.rotowire.com/basketball/nba-lineups.php')\n",
        "soup = BeautifulSoup(roto.content)\n",
        "\n",
        "starters = []\n",
        "\n",
        "for s in soup.find_all('li', class_ = 'lineup__player is-pct-play-100'):\n",
        "  s = str(s)\n",
        "  starters.append(s.split(\">\")[4].replace('</a',''))\n",
        "\n",
        "matches = []\n",
        "\n",
        "for starter in starters:\n",
        "  h = process.extract(starter, df_cruncher['player'].unique())\n",
        "  matches.append(h[0][0])"
      ],
      "execution_count": null,
      "outputs": []
    },
    {
      "cell_type": "code",
      "metadata": {
        "id": "I8Cs45H3U80Q"
      },
      "source": [
        "# general corrections to what's returned above. rotowire turned out to be \n",
        "# unreliable on a few occasions! \n",
        "\n",
        "df_cruncher['min_rank'] = df_cruncher.groupby('team')['proj mins'].rank(\"dense\", ascending = False)\n",
        "# df_cruncher['starter'] = [1 if player in matches else 0 for player in df_cruncher['player']]\n",
        "df_cruncher['starter'] = [1 if min >= 26 else 0 for min in df_cruncher['proj mins']]\n",
        "df_cruncher['starter_diff'] = df_cruncher['starter'] - df_cruncher['starter_avg']"
      ],
      "execution_count": 22,
      "outputs": []
    },
    {
      "cell_type": "code",
      "metadata": {
        "id": "TcJ-r85X5W6z",
        "outputId": "12945f4a-3dd9-46d2-f1c0-ffae9f71294b",
        "colab": {
          "base_uri": "https://localhost:8080/"
        }
      },
      "source": [
        "players_to_start = ['Grant Williams', 'Justin Holiday', \"DeAndre' Bembry\", 'Keldon Johnson',\n",
        "                    'Dejounte Murray']\n",
        "\n",
        "players_to_unstart = []\n",
        "\n",
        "def start(df, player):\n",
        "  df.loc[df['player'] == player, 'starter'] = 1\n",
        "  \n",
        "def unstart(df, player):\n",
        "  df.loc[df['player'] == player, 'starter'] = 0\n",
        "\n",
        "[start(df_cruncher, player) for player in players_to_start]\n",
        "[unstart(df_cruncher, player) for player in players_to_unstart]"
      ],
      "execution_count": 23,
      "outputs": [
        {
          "output_type": "execute_result",
          "data": {
            "text/plain": [
              "[]"
            ]
          },
          "metadata": {},
          "execution_count": 23
        }
      ]
    },
    {
      "cell_type": "code",
      "metadata": {
        "id": "RoNUxAybWN6U"
      },
      "source": [
        "latest_defense = df.groupby('opponent', as_index = True)[['opponent','oppfp48']].tail(1)\n",
        "df_cruncher = pd.merge(df_cruncher, latest_defense, how = 'left', left_on = 'opp', right_on = 'opponent')\n",
        "df_cruncher = df_cruncher.drop(columns = ['min_rank', 'oppfp48_x', 'starter_avg', 'opponent'])\n",
        "df_cruncher = df_cruncher.rename(columns = {'oppfp48_y' : 'oppfp48'})"
      ],
      "execution_count": 24,
      "outputs": []
    },
    {
      "cell_type": "code",
      "metadata": {
        "id": "gJdel5LBXt45"
      },
      "source": [
        "df_cruncher['starterfpgame'] = df_cruncher.groupby(['team','starter'])['avgfp'].transform(lambda x: x.sum())"
      ],
      "execution_count": null,
      "outputs": []
    },
    {
      "cell_type": "code",
      "metadata": {
        "id": "RIwPl_EMW4Uk"
      },
      "source": [
        "# df_cruncher = df_cruncher[df_cruncher['proj mins'] >= 0.5].copy()\n",
        "df_cruncher['model_proj'] = model_xg.predict(df_cruncher[features])\n",
        "df_cruncher['80th_percentile'] = (model_q.predict(df_cruncher[features], quantile = 80)).round(1)\n",
        "df_cruncher['model_proj'] = (df_cruncher['model_proj']).round(1)"
      ],
      "execution_count": 25,
      "outputs": []
    },
    {
      "cell_type": "code",
      "metadata": {
        "colab": {
          "base_uri": "https://localhost:8080/",
          "height": 819
        },
        "id": "9vYvQ8dAqKSJ",
        "outputId": "80700348-78a3-4c1e-874b-bba9ab2dad89"
      },
      "source": [
        "df_cruncher[['player', 'model_proj', '80th_percentile']].sort_values(by = 'model_proj', ascending = False).head(25)"
      ],
      "execution_count": 26,
      "outputs": [
        {
          "output_type": "execute_result",
          "data": {
            "text/html": [
              "<div>\n",
              "<style scoped>\n",
              "    .dataframe tbody tr th:only-of-type {\n",
              "        vertical-align: middle;\n",
              "    }\n",
              "\n",
              "    .dataframe tbody tr th {\n",
              "        vertical-align: top;\n",
              "    }\n",
              "\n",
              "    .dataframe thead th {\n",
              "        text-align: right;\n",
              "    }\n",
              "</style>\n",
              "<table border=\"1\" class=\"dataframe\">\n",
              "  <thead>\n",
              "    <tr style=\"text-align: right;\">\n",
              "      <th></th>\n",
              "      <th>player</th>\n",
              "      <th>model_proj</th>\n",
              "      <th>80th_percentile</th>\n",
              "    </tr>\n",
              "  </thead>\n",
              "  <tbody>\n",
              "    <tr>\n",
              "      <th>0</th>\n",
              "      <td>Russell Westbrook</td>\n",
              "      <td>57.900002</td>\n",
              "      <td>67.4</td>\n",
              "    </tr>\n",
              "    <tr>\n",
              "      <th>14</th>\n",
              "      <td>Nikola Jokic</td>\n",
              "      <td>52.200001</td>\n",
              "      <td>64.2</td>\n",
              "    </tr>\n",
              "    <tr>\n",
              "      <th>49</th>\n",
              "      <td>Joel Embiid</td>\n",
              "      <td>51.599998</td>\n",
              "      <td>63.0</td>\n",
              "    </tr>\n",
              "    <tr>\n",
              "      <th>3</th>\n",
              "      <td>Stephen Curry</td>\n",
              "      <td>50.700001</td>\n",
              "      <td>60.4</td>\n",
              "    </tr>\n",
              "    <tr>\n",
              "      <th>4</th>\n",
              "      <td>Domantas Sabonis</td>\n",
              "      <td>49.400002</td>\n",
              "      <td>61.2</td>\n",
              "    </tr>\n",
              "    <tr>\n",
              "      <th>12</th>\n",
              "      <td>Nikola Vucevic</td>\n",
              "      <td>49.099998</td>\n",
              "      <td>56.5</td>\n",
              "    </tr>\n",
              "    <tr>\n",
              "      <th>2</th>\n",
              "      <td>Damian Lillard</td>\n",
              "      <td>47.700001</td>\n",
              "      <td>58.2</td>\n",
              "    </tr>\n",
              "    <tr>\n",
              "      <th>36</th>\n",
              "      <td>Trae Young</td>\n",
              "      <td>46.900002</td>\n",
              "      <td>58.5</td>\n",
              "    </tr>\n",
              "    <tr>\n",
              "      <th>7</th>\n",
              "      <td>Bradley Beal</td>\n",
              "      <td>46.599998</td>\n",
              "      <td>55.8</td>\n",
              "    </tr>\n",
              "    <tr>\n",
              "      <th>6</th>\n",
              "      <td>Julius Randle</td>\n",
              "      <td>46.500000</td>\n",
              "      <td>55.5</td>\n",
              "    </tr>\n",
              "    <tr>\n",
              "      <th>19</th>\n",
              "      <td>Zion Williamson</td>\n",
              "      <td>43.599998</td>\n",
              "      <td>51.9</td>\n",
              "    </tr>\n",
              "    <tr>\n",
              "      <th>27</th>\n",
              "      <td>Anthony Davis</td>\n",
              "      <td>41.200001</td>\n",
              "      <td>48.8</td>\n",
              "    </tr>\n",
              "    <tr>\n",
              "      <th>33</th>\n",
              "      <td>Rudy Gobert</td>\n",
              "      <td>40.799999</td>\n",
              "      <td>52.5</td>\n",
              "    </tr>\n",
              "    <tr>\n",
              "      <th>20</th>\n",
              "      <td>Caris LeVert</td>\n",
              "      <td>40.700001</td>\n",
              "      <td>47.8</td>\n",
              "    </tr>\n",
              "    <tr>\n",
              "      <th>24</th>\n",
              "      <td>Brandon Ingram</td>\n",
              "      <td>40.099998</td>\n",
              "      <td>52.2</td>\n",
              "    </tr>\n",
              "    <tr>\n",
              "      <th>10</th>\n",
              "      <td>DeMar DeRozan</td>\n",
              "      <td>38.799999</td>\n",
              "      <td>49.0</td>\n",
              "    </tr>\n",
              "    <tr>\n",
              "      <th>50</th>\n",
              "      <td>Clint Capela</td>\n",
              "      <td>38.200001</td>\n",
              "      <td>48.8</td>\n",
              "    </tr>\n",
              "    <tr>\n",
              "      <th>68</th>\n",
              "      <td>Jonas Valanciunas</td>\n",
              "      <td>38.099998</td>\n",
              "      <td>50.2</td>\n",
              "    </tr>\n",
              "    <tr>\n",
              "      <th>37</th>\n",
              "      <td>Ja Morant</td>\n",
              "      <td>38.000000</td>\n",
              "      <td>45.8</td>\n",
              "    </tr>\n",
              "    <tr>\n",
              "      <th>5</th>\n",
              "      <td>CJ McCollum</td>\n",
              "      <td>37.700001</td>\n",
              "      <td>48.0</td>\n",
              "    </tr>\n",
              "    <tr>\n",
              "      <th>29</th>\n",
              "      <td>Lonzo Ball</td>\n",
              "      <td>37.599998</td>\n",
              "      <td>48.4</td>\n",
              "    </tr>\n",
              "    <tr>\n",
              "      <th>38</th>\n",
              "      <td>Jordan Clarkson</td>\n",
              "      <td>37.299999</td>\n",
              "      <td>44.0</td>\n",
              "    </tr>\n",
              "    <tr>\n",
              "      <th>46</th>\n",
              "      <td>Ben Simmons</td>\n",
              "      <td>36.900002</td>\n",
              "      <td>44.8</td>\n",
              "    </tr>\n",
              "    <tr>\n",
              "      <th>43</th>\n",
              "      <td>Tobias Harris</td>\n",
              "      <td>36.700001</td>\n",
              "      <td>45.5</td>\n",
              "    </tr>\n",
              "    <tr>\n",
              "      <th>17</th>\n",
              "      <td>Dejounte Murray</td>\n",
              "      <td>35.400002</td>\n",
              "      <td>43.0</td>\n",
              "    </tr>\n",
              "  </tbody>\n",
              "</table>\n",
              "</div>"
            ],
            "text/plain": [
              "               player  model_proj  80th_percentile\n",
              "0   Russell Westbrook   57.900002             67.4\n",
              "14       Nikola Jokic   52.200001             64.2\n",
              "49        Joel Embiid   51.599998             63.0\n",
              "3       Stephen Curry   50.700001             60.4\n",
              "4    Domantas Sabonis   49.400002             61.2\n",
              "12     Nikola Vucevic   49.099998             56.5\n",
              "2      Damian Lillard   47.700001             58.2\n",
              "36         Trae Young   46.900002             58.5\n",
              "7        Bradley Beal   46.599998             55.8\n",
              "6       Julius Randle   46.500000             55.5\n",
              "19    Zion Williamson   43.599998             51.9\n",
              "27      Anthony Davis   41.200001             48.8\n",
              "33        Rudy Gobert   40.799999             52.5\n",
              "20       Caris LeVert   40.700001             47.8\n",
              "24     Brandon Ingram   40.099998             52.2\n",
              "10      DeMar DeRozan   38.799999             49.0\n",
              "50       Clint Capela   38.200001             48.8\n",
              "68  Jonas Valanciunas   38.099998             50.2\n",
              "37          Ja Morant   38.000000             45.8\n",
              "5         CJ McCollum   37.700001             48.0\n",
              "29         Lonzo Ball   37.599998             48.4\n",
              "38    Jordan Clarkson   37.299999             44.0\n",
              "46        Ben Simmons   36.900002             44.8\n",
              "43      Tobias Harris   36.700001             45.5\n",
              "17    Dejounte Murray   35.400002             43.0"
            ]
          },
          "metadata": {},
          "execution_count": 26
        }
      ]
    }
  ]
}